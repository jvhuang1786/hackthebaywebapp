{
 "cells": [
  {
   "cell_type": "code",
   "execution_count": 1,
   "metadata": {},
   "outputs": [],
   "source": [
    "import numpy as np\n",
    "import pandas as pd\n",
    "import plotly\n",
    "import plotly.graph_objs as go\n",
    "import plotly.express as px\n",
    "from plotly.offline import download_plotlyjs, init_notebook_mode, plot, iplot\n",
    "from plotly.subplots import make_subplots\n",
    "import plotly.figure_factory as ff"
   ]
  },
  {
   "cell_type": "code",
   "execution_count": 2,
   "metadata": {},
   "outputs": [
    {
     "data": {
      "text/html": [
       "        <script type=\"text/javascript\">\n",
       "        window.PlotlyConfig = {MathJaxConfig: 'local'};\n",
       "        if (window.MathJax) {MathJax.Hub.Config({SVG: {font: \"STIX-Web\"}});}\n",
       "        if (typeof require !== 'undefined') {\n",
       "        require.undef(\"plotly\");\n",
       "        requirejs.config({\n",
       "            paths: {\n",
       "                'plotly': ['https://cdn.plot.ly/plotly-latest.min']\n",
       "            }\n",
       "        });\n",
       "        require(['plotly'], function(Plotly) {\n",
       "            window._Plotly = Plotly;\n",
       "        });\n",
       "        }\n",
       "        </script>\n",
       "        "
      ]
     },
     "metadata": {},
     "output_type": "display_data"
    }
   ],
   "source": [
    "init_notebook_mode(connected=True)"
   ]
  },
  {
   "cell_type": "code",
   "execution_count": 3,
   "metadata": {},
   "outputs": [
    {
     "data": {
      "text/plain": [
       "Index(['DateTime', 'Longitude', 'Latitude', 'ACTIVE CHLOROPHYLL-A ug/l',\n",
       "       'AMMONIUM NITROGEN AS N (FILTERED SAMPLE) mg/l',\n",
       "       'DISSOLVED OXYGEN IN MG/L mg/l', 'E.COLI BACTERIA mpn',\n",
       "       'NITRATE NITROGEN AS N (FILTERED SAMPLE) mg/l',\n",
       "       'ORTHOPHOSPHATE PHOSPHORUS AS P (FILTERED SAMPLE) mg/l',\n",
       "       'PH CORRECTED FOR TEMPERATURE (25 DEG C) su',\n",
       "       'SALINITY UNITS IN PPT AND EQUAL TO PRACTICAL SALNITY UNITS (PSU) ppt',\n",
       "       'SECCHI DEPTH m', 'TOTAL ALKALINITY AS CACO3 mg/l', 'TOTAL DEPTH m',\n",
       "       'TOTAL DISSOLVED SOLIDS; GRAVIMETRIC; DRIED AT 180 C mg/l',\n",
       "       'TOTAL KJELDAHL NITROGEN (WHOLE SAMPLE) mg/l', 'TOTAL NITROGEN mg/l',\n",
       "       'TOTAL PHOSPHORUS mg/l', 'TOTAL SUSPENDED SOLIDS mg/l',\n",
       "       'TURBIDITY; NEPHELOMETRIC METHOD ntu', 'WATER TEMPERATURE DEG deg c'],\n",
       "      dtype='object')"
      ]
     },
     "execution_count": 3,
     "metadata": {},
     "output_type": "execute_result"
    }
   ],
   "source": [
    "df = pd.read_csv('dfnitro.csv')\n",
    "df.columns"
   ]
  },
  {
   "cell_type": "code",
   "execution_count": 4,
   "metadata": {},
   "outputs": [],
   "source": [
    "fig = make_subplots(rows=2, cols=1, subplot_titles=(\"Nitrogen mg/l\", \"Phosphorus mg/l\"))\n",
    "\n",
    "fig.append_trace(go.Scatter(\n",
    "    x = df['TOTAL NITROGEN mg/l'],\n",
    "    y = df['Latitude'],\n",
    "    mode = 'markers',\n",
    "    name = 'Total Nitrogen mg/l',\n",
    "), row=1, col=1)\n",
    "\n",
    "fig.append_trace(go.Scatter(\n",
    "    x = df['TOTAL PHOSPHORUS mg/l'],\n",
    "    y = df['Latitude'],\n",
    "    mode = 'markers',\n",
    "    name = 'Total Phosphorus mg/l',\n",
    "), row=2, col=1)\n",
    "\n",
    "fig.update_layout(height=600, width=600)\n",
    "fig.write_image(\"Nitrogen_Phosphorus.png\")"
   ]
  },
  {
   "cell_type": "code",
   "execution_count": 5,
   "metadata": {},
   "outputs": [],
   "source": [
    "fig = make_subplots(rows=2, cols=1, subplot_titles=(\"Suspended Solids mg/l\", 'Turbidity ntu'))\n",
    "\n",
    "fig.append_trace(go.Scatter(\n",
    "    x = df['TOTAL SUSPENDED SOLIDS mg/l'],\n",
    "    y = df['Latitude'],\n",
    "    mode = 'markers',\n",
    "    name = 'TOTAL SUSPENDED SOLIDS mg/l',\n",
    "), row=1, col=1)\n",
    "\n",
    "fig.append_trace(go.Scatter(\n",
    "    x = df['TURBIDITY; NEPHELOMETRIC METHOD ntu'],\n",
    "    y = df['Latitude'],\n",
    "    mode = 'markers',\n",
    "    name = 'TURBIDITY; NEPHELOMETRIC METHOD ntu',\n",
    "), row=2, col=1)\n",
    "\n",
    "fig.update_layout(height=600, width=600)\n",
    "fig.write_image('Suspended_Solids_Turbidity.png')"
   ]
  },
  {
   "cell_type": "code",
   "execution_count": 14,
   "metadata": {
    "scrolled": false
   },
   "outputs": [],
   "source": [
    "fig = px.density_mapbox(df, lat='Latitude', lon='Longitude', \n",
    "                        z='WATER TEMPERATURE DEG deg c', \n",
    "                        radius=5, center=dict(lat=39.5, lon=-76),zoom=5,\n",
    "                        mapbox_style='stamen-terrain')\n",
    "# fig.show()\n",
    "fig.write_image('Water_Temp.png')"
   ]
  },
  {
   "cell_type": "code",
   "execution_count": 59,
   "metadata": {},
   "outputs": [],
   "source": [
    "df_pH = df[df['PH CORRECTED FOR TEMPERATURE (25 DEG C) su'] < 50 ] \n",
    "\n",
    "\n",
    "hist_data = [df_pH['PH CORRECTED FOR TEMPERATURE (25 DEG C) su'].dropna(), \n",
    "             df['WATER TEMPERATURE DEG deg c'].dropna(),\n",
    "            df['SALINITY UNITS IN PPT AND EQUAL TO PRACTICAL SALNITY UNITS (PSU) ppt'].dropna()]\n",
    "\n",
    "group_labels = ['pH Corrected for Temperature', 'Water Temperature', 'Salinity']\n",
    "\n",
    "fig = ff.create_distplot(hist_data, group_labels, bin_size=.2)\n",
    "fig.write_image('pH_Temp_Salinity.png')"
   ]
  },
  {
   "cell_type": "code",
   "execution_count": 61,
   "metadata": {},
   "outputs": [],
   "source": [
    "fig = make_subplots(rows=2, cols=1, subplot_titles=('Dissolved Oxygen mg/l', \"Active Chlorophyll ug/l\"))\n",
    "\n",
    "df_DO = df[df['DISSOLVED OXYGEN IN MG/L mg/l'] < 100]\n",
    "\n",
    "fig.append_trace(go.Scatter(\n",
    "    x = df_DO['DISSOLVED OXYGEN IN MG/L mg/l'],\n",
    "    y = df_DO['Latitude'],\n",
    "    mode = 'markers',\n",
    "    name = 'Dissolved Oxygen mg/l',\n",
    "), row=1, col=1)\n",
    "\n",
    "fig.append_trace(go.Scatter(\n",
    "    x = df['ACTIVE CHLOROPHYLL-A ug/l'],\n",
    "    y = df['Latitude'],\n",
    "    mode = 'markers',\n",
    "    name = 'Active Chlorophyll ug/l',\n",
    "), row=2, col=1)\n",
    "\n",
    "fig.update_layout(height=600, width=600)\n",
    "fig.write_image(\"DO_Active_Chlorophyll.png\")"
   ]
  }
 ],
 "metadata": {
  "kernelspec": {
   "display_name": "Python 3",
   "language": "python",
   "name": "python3"
  },
  "language_info": {
   "codemirror_mode": {
    "name": "ipython",
    "version": 3
   },
   "file_extension": ".py",
   "mimetype": "text/x-python",
   "name": "python",
   "nbconvert_exporter": "python",
   "pygments_lexer": "ipython3",
   "version": "3.7.4"
  }
 },
 "nbformat": 4,
 "nbformat_minor": 2
}
